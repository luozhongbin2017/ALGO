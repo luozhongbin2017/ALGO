{
 "cells": [
  {
   "cell_type": "code",
   "execution_count": 1,
   "metadata": {
    "collapsed": true
   },
   "outputs": [],
   "source": [
    "import pandas as pd\n",
    "import numpy as np\n",
    "import matplotlib.pylab as plt\n",
    "import csv\n",
    "import glob\n",
    "\n",
    "filename = '/home/octo/Dropbox'+ '/SPY4Aug17.csv'"
   ]
  },
  {
   "cell_type": "code",
   "execution_count": 2,
   "metadata": {
    "collapsed": true
   },
   "outputs": [],
   "source": [
    "# loading csv file\n",
    "def get_csv_pd(path):\n",
    "    #spy_pd=pd.read_csv('C:\\\\Users\\Michal\\Dropbox\\IB_data\\SPY.csv',sep=' ',names=['askPrice','askSize','bidPrice','bidSize'],index_col=0,parse_dates=True)\n",
    "    #spy_pd=pd.read_csv(path+'\\SPY.csv',sep=',',names=['askPrice','askSize','bidPrice','bidSize'],index_col=0,parse_dates=True)\n",
    "    spy_pd=pd.read_csv(path,sep=',',dtype={'askPrice':np.float32,'askSize':np.float32,\n",
    "                                           'bidPrice':np.float32,'bidSize':np.float32},index_col=0,parse_dates=True)\n",
    "    #spy_pd = pd.read_csv(path, usecols=['askPrice','askSize','bidPrice','bidSize'], engine='python', skipfooter=3)\n",
    "    return spy_pd\n",
    "\n",
    "def get_csv_pd_notime(path):\n",
    "    #spy_pd=pd.read_csv('C:\\\\Users\\Michal\\Dropbox\\IB_data\\SPY.csv',sep=' ',names=['askPrice','askSize','bidPrice','bidSize'],index_col=0,parse_dates=True)\n",
    "    #spy_pd=pd.read_csv(path+'\\SPY.csv',sep=',',names=['askPrice','askSize','bidPrice','bidSize'],index_col=0,parse_dates=True)\n",
    "    spy_pd = pd.read_csv(path, usecols=['askPrice','askSize','bidPrice','bidSize'], engine='python', skipfooter=3)\n",
    "    return spy_pd\n",
    "\n",
    "\n",
    "def preprocessing(df):\n",
    "    df.bidPrice=df.loc[:,'bidPrice'].replace(to_replace=0, method='ffill')\n",
    "    df.bidSize=df.loc[:,'bidSize'].replace(to_replace=0, method='ffill')\n",
    "    df.askPrice=df.loc[:,'askPrice'].replace(to_replace=0, method='ffill')\n",
    "    df.askSize=df.loc[:,'askSize'].replace(to_replace=0, method='ffill')\n",
    "    df=df.dropna()\n",
    "    # to exclude 0\n",
    "    df=df[df['bidPrice']>df.bidPrice.mean()-df.bidPrice.std()]\n",
    "    df=df[df['askPrice']>df.askPrice.mean()-df.askPrice.std()]\n",
    "    df['mid']=(df.askPrice+df.bidPrice)/2\n",
    "    df['vwap']=((df.loc[:,'bidPrice']*df.loc[:,'bidSize'])+(df.loc[:,'askPrice']*df.loc[:,'askSize']))/(df.loc[:,'bidSize']+df.loc[:,'askSize'])\n",
    "    df['spread']=df.vwap-(df.askPrice+df.bidPrice)/2\n",
    "    df['v']=(df.askPrice+df.bidPrice)/2-((df.askPrice+df.bidPrice)/2).shift(60)\n",
    "    df['return']=(df.askPrice/df.bidPrice.shift(1))-1\n",
    "    df['sigma']=df.spread.rolling(60).std()\n",
    "    return df\n",
    "\n",
    "def normalise(df,window_length=60):\n",
    "    dfn=(df-df.rolling(window_length).min())/(df.rolling(window_length).max()-df.rolling(window_length).min())\n",
    "    return dfn\n",
    "\n",
    "def de_normalise(df,window_length=60):\n",
    "    dn=(df*(df.rolling(window_length).max()-df.rolling(window_length).min()))+df.rolling(window_length).min()\n",
    "    return dn"
   ]
  },
  {
   "cell_type": "code",
   "execution_count": 3,
   "metadata": {
    "collapsed": true
   },
   "outputs": [],
   "source": [
    "data=get_csv_pd(filename)\n",
    "data=preprocessing(data)\n",
    "data=normalise(data)\n",
    "data=data.dropna()"
   ]
  },
  {
   "cell_type": "code",
   "execution_count": 4,
   "metadata": {
    "collapsed": false
   },
   "outputs": [
    {
     "data": {
      "text/html": [
       "<div>\n",
       "<style>\n",
       "    .dataframe thead tr:only-child th {\n",
       "        text-align: right;\n",
       "    }\n",
       "\n",
       "    .dataframe thead th {\n",
       "        text-align: left;\n",
       "    }\n",
       "\n",
       "    .dataframe tbody tr th {\n",
       "        vertical-align: top;\n",
       "    }\n",
       "</style>\n",
       "<table border=\"1\" class=\"dataframe\">\n",
       "  <thead>\n",
       "    <tr style=\"text-align: right;\">\n",
       "      <th></th>\n",
       "      <th>askPrice</th>\n",
       "      <th>askSize</th>\n",
       "      <th>bidPrice</th>\n",
       "      <th>bidSize</th>\n",
       "      <th>mid</th>\n",
       "      <th>vwap</th>\n",
       "      <th>spread</th>\n",
       "      <th>v</th>\n",
       "      <th>return</th>\n",
       "      <th>sigma</th>\n",
       "    </tr>\n",
       "  </thead>\n",
       "  <tbody>\n",
       "    <tr>\n",
       "      <th>2017-08-03 11:47:20.626235</th>\n",
       "      <td>1.0</td>\n",
       "      <td>1.000000</td>\n",
       "      <td>1.0</td>\n",
       "      <td>0.005450</td>\n",
       "      <td>1.0</td>\n",
       "      <td>0.996154</td>\n",
       "      <td>0.992248</td>\n",
       "      <td>1.0</td>\n",
       "      <td>0.997059</td>\n",
       "      <td>0.922860</td>\n",
       "    </tr>\n",
       "    <tr>\n",
       "      <th>2017-08-03 11:47:20.634236</th>\n",
       "      <td>1.0</td>\n",
       "      <td>0.938356</td>\n",
       "      <td>1.0</td>\n",
       "      <td>0.005450</td>\n",
       "      <td>1.0</td>\n",
       "      <td>0.996154</td>\n",
       "      <td>0.992248</td>\n",
       "      <td>1.0</td>\n",
       "      <td>0.997059</td>\n",
       "      <td>0.909415</td>\n",
       "    </tr>\n",
       "    <tr>\n",
       "      <th>2017-08-03 11:47:21.618171</th>\n",
       "      <td>1.0</td>\n",
       "      <td>0.938356</td>\n",
       "      <td>1.0</td>\n",
       "      <td>0.008174</td>\n",
       "      <td>1.0</td>\n",
       "      <td>0.993846</td>\n",
       "      <td>0.987597</td>\n",
       "      <td>1.0</td>\n",
       "      <td>0.997059</td>\n",
       "      <td>0.890605</td>\n",
       "    </tr>\n",
       "    <tr>\n",
       "      <th>2017-08-03 11:47:21.624172</th>\n",
       "      <td>1.0</td>\n",
       "      <td>0.962329</td>\n",
       "      <td>1.0</td>\n",
       "      <td>0.008174</td>\n",
       "      <td>1.0</td>\n",
       "      <td>0.993846</td>\n",
       "      <td>0.987597</td>\n",
       "      <td>1.0</td>\n",
       "      <td>0.997059</td>\n",
       "      <td>0.866367</td>\n",
       "    </tr>\n",
       "    <tr>\n",
       "      <th>2017-08-03 11:47:22.140355</th>\n",
       "      <td>1.0</td>\n",
       "      <td>0.962329</td>\n",
       "      <td>1.0</td>\n",
       "      <td>0.318801</td>\n",
       "      <td>1.0</td>\n",
       "      <td>0.853846</td>\n",
       "      <td>0.705426</td>\n",
       "      <td>1.0</td>\n",
       "      <td>0.997059</td>\n",
       "      <td>0.813401</td>\n",
       "    </tr>\n",
       "  </tbody>\n",
       "</table>\n",
       "</div>"
      ],
      "text/plain": [
       "                            askPrice   askSize  bidPrice   bidSize  mid  \\\n",
       "2017-08-03 11:47:20.626235       1.0  1.000000       1.0  0.005450  1.0   \n",
       "2017-08-03 11:47:20.634236       1.0  0.938356       1.0  0.005450  1.0   \n",
       "2017-08-03 11:47:21.618171       1.0  0.938356       1.0  0.008174  1.0   \n",
       "2017-08-03 11:47:21.624172       1.0  0.962329       1.0  0.008174  1.0   \n",
       "2017-08-03 11:47:22.140355       1.0  0.962329       1.0  0.318801  1.0   \n",
       "\n",
       "                                vwap    spread    v    return     sigma  \n",
       "2017-08-03 11:47:20.626235  0.996154  0.992248  1.0  0.997059  0.922860  \n",
       "2017-08-03 11:47:20.634236  0.996154  0.992248  1.0  0.997059  0.909415  \n",
       "2017-08-03 11:47:21.618171  0.993846  0.987597  1.0  0.997059  0.890605  \n",
       "2017-08-03 11:47:21.624172  0.993846  0.987597  1.0  0.997059  0.866367  \n",
       "2017-08-03 11:47:22.140355  0.853846  0.705426  1.0  0.997059  0.813401  "
      ]
     },
     "execution_count": 4,
     "metadata": {},
     "output_type": "execute_result"
    }
   ],
   "source": [
    "data.head()"
   ]
  },
  {
   "cell_type": "markdown",
   "metadata": {},
   "source": [
    "#### Linear Regression, sklearn, svm:SVR,linear_model"
   ]
  },
  {
   "cell_type": "code",
   "execution_count": 5,
   "metadata": {
    "collapsed": true
   },
   "outputs": [],
   "source": [
    "import pickle\n",
    "#from sklearn.cross_validation import train_test_split\n",
    "from sklearn import linear_model\n",
    "from sklearn.svm import SVR\n",
    "from sklearn.preprocessing import MinMaxScaler\n",
    "from sklearn.model_selection import train_test_split\n",
    "from sklearn.svm import SVC"
   ]
  },
  {
   "cell_type": "code",
   "execution_count": 9,
   "metadata": {
    "collapsed": true
   },
   "outputs": [],
   "source": [
    "# saving linear model\n",
    "df=data.tail(20000)\n",
    "X=df[['askPrice','askSize','bidPrice','bidSize','vwap','spread','v','return','sigma']]\n",
    "y=df.mid"
   ]
  },
  {
   "cell_type": "code",
   "execution_count": 10,
   "metadata": {
    "collapsed": false
   },
   "outputs": [],
   "source": [
    "regr = linear_model.LinearRegression()\n",
    "regr_model=regr.fit(X,y)\n",
    "# save the model to disk\n",
    "filename_rgr = 'rgr.sav'\n",
    "pickle.dump(regr_model, open(filename_rgr, 'wb'))"
   ]
  },
  {
   "cell_type": "code",
   "execution_count": 11,
   "metadata": {
    "collapsed": true
   },
   "outputs": [],
   "source": [
    "svr_rbf = SVR(kernel='rbf', C=1e3, gamma=0.9) #kernel='linear' #kernel='poly'\n",
    "svr_model = svr_rbf.fit(X, y)\n",
    "# save the model to disk\n",
    "filename_svr = 'svr.sav'\n",
    "pickle.dump(svr_model, open(filename_svr, 'wb'))"
   ]
  },
  {
   "cell_type": "markdown",
   "metadata": {},
   "source": [
    "#### Classification"
   ]
  },
  {
   "cell_type": "code",
   "execution_count": 12,
   "metadata": {
    "collapsed": true
   },
   "outputs": [],
   "source": [
    "##### Model is saved from ML_20SEP"
   ]
  },
  {
   "cell_type": "code",
   "execution_count": null,
   "metadata": {
    "collapsed": true
   },
   "outputs": [],
   "source": []
  }
 ],
 "metadata": {
  "kernelspec": {
   "display_name": "Python 3",
   "language": "python",
   "name": "python3"
  },
  "language_info": {
   "codemirror_mode": {
    "name": "ipython",
    "version": 3
   },
   "file_extension": ".py",
   "mimetype": "text/x-python",
   "name": "python",
   "nbconvert_exporter": "python",
   "pygments_lexer": "ipython3",
   "version": "3.5.2"
  },
  "widgets": {
   "state": {},
   "version": "1.1.2"
  }
 },
 "nbformat": 4,
 "nbformat_minor": 2
}
