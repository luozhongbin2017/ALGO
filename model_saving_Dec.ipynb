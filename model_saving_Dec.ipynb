{
 "cells": [
  {
   "cell_type": "code",
   "execution_count": 1,
   "metadata": {
    "collapsed": false
   },
   "outputs": [
    {
     "name": "stderr",
     "output_type": "stream",
     "text": [
      "/home/octo/anaconda2/envs/carnd-term1/lib/python3.5/site-packages/statsmodels/compat/pandas.py:56: FutureWarning: The pandas.core.datetools module is deprecated and will be removed in a future version. Please use the pandas.tseries module instead.\n",
      "  from pandas.core import datetools\n"
     ]
    }
   ],
   "source": [
    "import pandas as pd\n",
    "import numpy as np\n",
    "import matplotlib.pylab as plt\n",
    "import csv\n",
    "import glob\n",
    "\n",
    "from statsmodels.tsa.arima_model import ARIMA\n",
    "from statsmodels.tsa.arima_model import ARIMAResults\n",
    "\n",
    "import pickle\n",
    "#from sklearn.cross_validation import train_test_split\n",
    "from sklearn import linear_model\n",
    "from sklearn.svm import SVR\n",
    "from sklearn.preprocessing import MinMaxScaler\n",
    "from sklearn.model_selection import train_test_split\n",
    "from sklearn.svm import SVC"
   ]
  },
  {
   "cell_type": "code",
   "execution_count": 129,
   "metadata": {
    "collapsed": false
   },
   "outputs": [],
   "source": [
    "import time\n",
    "import numpy\n",
    "import pandas\n",
    "import math\n",
    "from keras.models import Sequential\n",
    "from keras.layers import LSTM\n",
    "from keras.layers.core import Dense, Activation, Dropout\n",
    "from sklearn.preprocessing import MinMaxScaler\n",
    "from sklearn.metrics import mean_squared_error\n",
    "from sklearn.preprocessing import MinMaxScaler\n",
    "from sklearn.metrics import mean_squared_error"
   ]
  },
  {
   "cell_type": "code",
   "execution_count": 2,
   "metadata": {
    "collapsed": true
   },
   "outputs": [],
   "source": [
    "# loading csv file\n",
    "def get_csv_pd(path):\n",
    "    #spy_pd=pd.read_csv('C:\\\\Users\\Michal\\Dropbox\\IB_data\\SPY.csv',sep=' ',names=['askPrice','askSize','bidPrice','bidSize'],index_col=0,parse_dates=True)\n",
    "    #spy_pd=pd.read_csv(path+'\\SPY.csv',sep=',',names=['askPrice','askSize','bidPrice','bidSize'],index_col=0,parse_dates=True)\n",
    "    spy_pd=pd.read_csv(path,sep=',',dtype={'askPrice':np.float32,'askSize':np.float32,\n",
    "                                           'bidPrice':np.float32,'bidSize':np.float32},index_col=0,parse_dates=True)\n",
    "    #spy_pd = pd.read_csv(path, usecols=['askPrice','askSize','bidPrice','bidSize'], engine='python', skipfooter=3)\n",
    "    return spy_pd\n",
    "'''\n",
    "def get_csv_pd_notime(path):\n",
    "    #spy_pd=pd.read_csv('C:\\\\Users\\Michal\\Dropbox\\IB_data\\SPY.csv',sep=' ',names=['askPrice','askSize','bidPrice','bidSize'],index_col=0,parse_dates=True)\n",
    "    #spy_pd=pd.read_csv(path+'\\SPY.csv',sep=',',names=['askPrice','askSize','bidPrice','bidSize'],index_col=0,parse_dates=True)\n",
    "    spy_pd = pd.read_csv(path, usecols=['askPrice','askSize','bidPrice','bidSize'], engine='python', skipfooter=3)\n",
    "    return spy_pd\n",
    "'''\n",
    "\n",
    "def preprocessing(df):\n",
    "    df.bidPrice=df.loc[:,'bidPrice'].replace(to_replace=0, method='ffill')\n",
    "    df.bidSize=df.loc[:,'bidSize'].replace(to_replace=0, method='ffill')\n",
    "    df.askPrice=df.loc[:,'askPrice'].replace(to_replace=0, method='ffill')\n",
    "    df.askSize=df.loc[:,'askSize'].replace(to_replace=0, method='ffill')\n",
    "    df=df.dropna()\n",
    "    # to exclude 0\n",
    "    df=df[df['bidPrice']>df.bidPrice.mean()-df.bidPrice.std()]\n",
    "    df=df[df['askPrice']>df.askPrice.mean()-df.askPrice.std()]\n",
    "    df['mid']=(df.askPrice+df.bidPrice)/2\n",
    "    df['vwap']=((df.loc[:,'bidPrice']*df.loc[:,'bidSize'])+(df.loc[:,'askPrice']*df.loc[:,'askSize']))/(df.loc[:,'bidSize']+df.loc[:,'askSize'])\n",
    "    df['spread']=df.vwap-(df.askPrice+df.bidPrice)/2\n",
    "    df['v']=(df.askPrice+df.bidPrice)/2-((df.askPrice+df.bidPrice)/2).shift(60)\n",
    "    df['return']=(df.askPrice/df.bidPrice.shift(1))-1\n",
    "    df['sigma']=df.spread.rolling(60).std()\n",
    "    return df\n",
    "\n",
    "'''\n",
    "def normalise(df,window_length=60):\n",
    "    dfn=(df-df.rolling(window_length).min())/(df.rolling(window_length).max()-df.rolling(window_length).min())\n",
    "    return dfn\n",
    "\n",
    "def de_normalise(data,df,window_length=60):\n",
    "    dn=(df*(data.rolling(window_length).max()-data.rolling(window_length).min()))+data.rolling(window_length).min()\n",
    "    return dn\n",
    "\n",
    "def normalise_z(df,window_length=12):\n",
    "    dfn=(df-df.rolling(window_length).mean())/(df.rolling(window_length).std())\n",
    "    return dfn\n",
    "\n",
    "'''\n",
    "def normalise(df,window_length=60):\n",
    "    data=df[['askPrice','askSize','bidPrice','bidSize','vwap','spread','v','return','sigma']]\n",
    "    dfn=data/data.shift(60)\n",
    "    return dfn\n",
    "\n",
    "def de_normalise(dfn,window_length=60):\n",
    "    data=df[['askPrice','askSize','bidPrice','bidSize','vwap','spread','v','return','sigma']]\n",
    "    data=dfn*data.shift(60)\n",
    "    return data\n",
    "\n",
    "#https://stackoverflow.com/questions/312443/how-do-you-split-a-list-into-evenly-sized-chunks\n",
    "def chunks(l, n):\n",
    "    \"\"\"Yield successive n-sized chunks from l.\"\"\"\n",
    "    for i in range(0, len(l), n):\n",
    "        yield l[i:i + n]\n",
    "        \n",
    "# monkey patch around bug in ARIMA class\n",
    "def __getnewargs__(self):\n",
    "\treturn ((self.endog),(self.k_lags, self.k_diff, self.k_ma))\n",
    "ARIMA.__getnewargs__ = __getnewargs__\n",
    "\n",
    "\n",
    "def arima_processing(df):\n",
    "    #data=df[['vwap','mid']]\n",
    "    df=df.dropna()\n",
    "    df['Lvwap']=np.log(df.vwap)\n",
    "    df['Lmid']=np.log(df.mid)\n",
    "    df['LDvwap']=df.Lvwap-df.Lvwap.shift(60)\n",
    "    df['LDmid']=df.Lmid-df.Lmid.shift(60)\n",
    "    df=df.dropna()\n",
    "    return df  \n",
    "\n",
    "def ARIMA_saving(data):\n",
    "    data=data.dropna()\n",
    "    data1=data.LDvwap\n",
    "    data2=data.LDmid\n",
    "    \n",
    "    model_vwap = ARIMA(data1,order=(2,1,2))  # tested from ARIMA.ipynb\n",
    "    #predictions = model.fit(disp=0).predict()\n",
    "    predictions_vwap =model_vwap.fit(disp=0).fittedvalues\n",
    "    # save model\n",
    "    model_vwap.fit().save('vwap_arima.pkl')\n",
    "    vwap_arima=np.exp(predictions_vwap+data.Lvwap.shift(60))\n",
    "    \n",
    "    model_mid = ARIMA(data2,order=(2,1,2))  # tested from ARIMA.ipynb\n",
    "    #predictions = model.fit(disp=0).predict()\n",
    "    predictions_mid =model_mid.fit(disp=0).fittedvalues\n",
    "    # save model\n",
    "    model_mid.fit().save('mid_arima.pkl')        "
   ]
  },
  {
   "cell_type": "code",
   "execution_count": 3,
   "metadata": {
    "collapsed": true
   },
   "outputs": [],
   "source": [
    "filename = '/home/octo/Dropbox'+ '/SPY7Dec.csv'"
   ]
  },
  {
   "cell_type": "markdown",
   "metadata": {},
   "source": [
    "##### saving Arima model"
   ]
  },
  {
   "cell_type": "code",
   "execution_count": 8,
   "metadata": {
    "collapsed": false
   },
   "outputs": [
    {
     "name": "stderr",
     "output_type": "stream",
     "text": [
      "/home/octo/anaconda2/envs/carnd-term1/lib/python3.5/site-packages/statsmodels/base/model.py:496: ConvergenceWarning: Maximum Likelihood optimization failed to converge. Check mle_retvals\n",
      "  \"Check mle_retvals\", ConvergenceWarning)\n",
      "/home/octo/anaconda2/envs/carnd-term1/lib/python3.5/site-packages/statsmodels/base/model.py:496: ConvergenceWarning: Maximum Likelihood optimization failed to converge. Check mle_retvals\n",
      "  \"Check mle_retvals\", ConvergenceWarning)\n",
      "/home/octo/anaconda2/envs/carnd-term1/lib/python3.5/site-packages/statsmodels/base/model.py:496: ConvergenceWarning: Maximum Likelihood optimization failed to converge. Check mle_retvals\n",
      "  \"Check mle_retvals\", ConvergenceWarning)\n",
      "/home/octo/anaconda2/envs/carnd-term1/lib/python3.5/site-packages/statsmodels/base/model.py:496: ConvergenceWarning: Maximum Likelihood optimization failed to converge. Check mle_retvals\n",
      "  \"Check mle_retvals\", ConvergenceWarning)\n"
     ]
    }
   ],
   "source": [
    "data=get_csv_pd(filename)\n",
    "data=preprocessing(data)\n",
    "data=data.dropna()\n",
    "data=arima_processing(data)\n",
    "data=data.dropna()\n",
    "ARIMA_saving(data)"
   ]
  },
  {
   "cell_type": "code",
   "execution_count": 9,
   "metadata": {
    "collapsed": false
   },
   "outputs": [
    {
     "data": {
      "text/html": [
       "<div>\n",
       "<style>\n",
       "    .dataframe thead tr:only-child th {\n",
       "        text-align: right;\n",
       "    }\n",
       "\n",
       "    .dataframe thead th {\n",
       "        text-align: left;\n",
       "    }\n",
       "\n",
       "    .dataframe tbody tr th {\n",
       "        vertical-align: top;\n",
       "    }\n",
       "</style>\n",
       "<table border=\"1\" class=\"dataframe\">\n",
       "  <thead>\n",
       "    <tr style=\"text-align: right;\">\n",
       "      <th></th>\n",
       "      <th>askPrice</th>\n",
       "      <th>askSize</th>\n",
       "      <th>bidPrice</th>\n",
       "      <th>bidSize</th>\n",
       "      <th>mid</th>\n",
       "      <th>vwap</th>\n",
       "      <th>spread</th>\n",
       "      <th>v</th>\n",
       "      <th>return</th>\n",
       "      <th>sigma</th>\n",
       "      <th>Lvwap</th>\n",
       "      <th>Lmid</th>\n",
       "      <th>LDvwap</th>\n",
       "      <th>LDmid</th>\n",
       "    </tr>\n",
       "  </thead>\n",
       "  <tbody>\n",
       "    <tr>\n",
       "      <th>2017-12-07 20:13:18.071447</th>\n",
       "      <td>263.269989</td>\n",
       "      <td>1.0</td>\n",
       "      <td>263.260010</td>\n",
       "      <td>222.0</td>\n",
       "      <td>263.265015</td>\n",
       "      <td>263.260040</td>\n",
       "      <td>-0.004974</td>\n",
       "      <td>0.000000</td>\n",
       "      <td>0.000038</td>\n",
       "      <td>0.004030</td>\n",
       "      <td>5.573142</td>\n",
       "      <td>5.573161</td>\n",
       "      <td>-0.000037</td>\n",
       "      <td>0.000000</td>\n",
       "    </tr>\n",
       "    <tr>\n",
       "      <th>2017-12-07 20:13:18.366477</th>\n",
       "      <td>263.269989</td>\n",
       "      <td>1.0</td>\n",
       "      <td>263.269989</td>\n",
       "      <td>222.0</td>\n",
       "      <td>263.269989</td>\n",
       "      <td>263.269989</td>\n",
       "      <td>0.000000</td>\n",
       "      <td>0.004974</td>\n",
       "      <td>0.000038</td>\n",
       "      <td>0.004022</td>\n",
       "      <td>5.573180</td>\n",
       "      <td>5.573180</td>\n",
       "      <td>0.000001</td>\n",
       "      <td>0.000019</td>\n",
       "    </tr>\n",
       "    <tr>\n",
       "      <th>2017-12-07 20:13:18.654352</th>\n",
       "      <td>263.269989</td>\n",
       "      <td>1.0</td>\n",
       "      <td>263.269989</td>\n",
       "      <td>3.0</td>\n",
       "      <td>263.269989</td>\n",
       "      <td>263.269989</td>\n",
       "      <td>0.000000</td>\n",
       "      <td>0.004974</td>\n",
       "      <td>0.000000</td>\n",
       "      <td>0.004013</td>\n",
       "      <td>5.573180</td>\n",
       "      <td>5.573180</td>\n",
       "      <td>0.000001</td>\n",
       "      <td>0.000019</td>\n",
       "    </tr>\n",
       "    <tr>\n",
       "      <th>2017-12-07 20:13:18.951643</th>\n",
       "      <td>263.279999</td>\n",
       "      <td>1.0</td>\n",
       "      <td>263.269989</td>\n",
       "      <td>3.0</td>\n",
       "      <td>263.274994</td>\n",
       "      <td>263.272491</td>\n",
       "      <td>-0.002502</td>\n",
       "      <td>0.009979</td>\n",
       "      <td>0.000038</td>\n",
       "      <td>0.004038</td>\n",
       "      <td>5.573190</td>\n",
       "      <td>5.573199</td>\n",
       "      <td>0.000012</td>\n",
       "      <td>0.000038</td>\n",
       "    </tr>\n",
       "    <tr>\n",
       "      <th>2017-12-07 20:13:19.246497</th>\n",
       "      <td>263.279999</td>\n",
       "      <td>321.0</td>\n",
       "      <td>263.269989</td>\n",
       "      <td>3.0</td>\n",
       "      <td>263.274994</td>\n",
       "      <td>263.279938</td>\n",
       "      <td>0.004944</td>\n",
       "      <td>0.009979</td>\n",
       "      <td>0.000038</td>\n",
       "      <td>0.004045</td>\n",
       "      <td>5.573218</td>\n",
       "      <td>5.573199</td>\n",
       "      <td>0.000040</td>\n",
       "      <td>0.000038</td>\n",
       "    </tr>\n",
       "  </tbody>\n",
       "</table>\n",
       "</div>"
      ],
      "text/plain": [
       "                              askPrice  askSize    bidPrice  bidSize  \\\n",
       "2017-12-07 20:13:18.071447  263.269989      1.0  263.260010    222.0   \n",
       "2017-12-07 20:13:18.366477  263.269989      1.0  263.269989    222.0   \n",
       "2017-12-07 20:13:18.654352  263.269989      1.0  263.269989      3.0   \n",
       "2017-12-07 20:13:18.951643  263.279999      1.0  263.269989      3.0   \n",
       "2017-12-07 20:13:19.246497  263.279999    321.0  263.269989      3.0   \n",
       "\n",
       "                                   mid        vwap    spread         v  \\\n",
       "2017-12-07 20:13:18.071447  263.265015  263.260040 -0.004974  0.000000   \n",
       "2017-12-07 20:13:18.366477  263.269989  263.269989  0.000000  0.004974   \n",
       "2017-12-07 20:13:18.654352  263.269989  263.269989  0.000000  0.004974   \n",
       "2017-12-07 20:13:18.951643  263.274994  263.272491 -0.002502  0.009979   \n",
       "2017-12-07 20:13:19.246497  263.274994  263.279938  0.004944  0.009979   \n",
       "\n",
       "                              return     sigma     Lvwap      Lmid    LDvwap  \\\n",
       "2017-12-07 20:13:18.071447  0.000038  0.004030  5.573142  5.573161 -0.000037   \n",
       "2017-12-07 20:13:18.366477  0.000038  0.004022  5.573180  5.573180  0.000001   \n",
       "2017-12-07 20:13:18.654352  0.000000  0.004013  5.573180  5.573180  0.000001   \n",
       "2017-12-07 20:13:18.951643  0.000038  0.004038  5.573190  5.573199  0.000012   \n",
       "2017-12-07 20:13:19.246497  0.000038  0.004045  5.573218  5.573199  0.000040   \n",
       "\n",
       "                               LDmid  \n",
       "2017-12-07 20:13:18.071447  0.000000  \n",
       "2017-12-07 20:13:18.366477  0.000019  \n",
       "2017-12-07 20:13:18.654352  0.000019  \n",
       "2017-12-07 20:13:18.951643  0.000038  \n",
       "2017-12-07 20:13:19.246497  0.000038  "
      ]
     },
     "execution_count": 9,
     "metadata": {},
     "output_type": "execute_result"
    }
   ],
   "source": [
    "data.head()"
   ]
  },
  {
   "cell_type": "markdown",
   "metadata": {},
   "source": [
    "##### No need to save KM model"
   ]
  },
  {
   "cell_type": "markdown",
   "metadata": {},
   "source": [
    "##### Linear Regression, sklearn, svm:SVR,linear_model"
   ]
  },
  {
   "cell_type": "code",
   "execution_count": 10,
   "metadata": {
    "collapsed": true
   },
   "outputs": [],
   "source": [
    "data=get_csv_pd(filename)\n",
    "data=preprocessing(data)\n",
    "#data=normalise(data)\n",
    "data=data.dropna()"
   ]
  },
  {
   "cell_type": "code",
   "execution_count": 11,
   "metadata": {
    "collapsed": false
   },
   "outputs": [
    {
     "data": {
      "text/html": [
       "<div>\n",
       "<style>\n",
       "    .dataframe thead tr:only-child th {\n",
       "        text-align: right;\n",
       "    }\n",
       "\n",
       "    .dataframe thead th {\n",
       "        text-align: left;\n",
       "    }\n",
       "\n",
       "    .dataframe tbody tr th {\n",
       "        vertical-align: top;\n",
       "    }\n",
       "</style>\n",
       "<table border=\"1\" class=\"dataframe\">\n",
       "  <thead>\n",
       "    <tr style=\"text-align: right;\">\n",
       "      <th></th>\n",
       "      <th>askPrice</th>\n",
       "      <th>askSize</th>\n",
       "      <th>bidPrice</th>\n",
       "      <th>bidSize</th>\n",
       "      <th>mid</th>\n",
       "      <th>vwap</th>\n",
       "      <th>spread</th>\n",
       "      <th>v</th>\n",
       "      <th>return</th>\n",
       "      <th>sigma</th>\n",
       "    </tr>\n",
       "  </thead>\n",
       "  <tbody>\n",
       "    <tr>\n",
       "      <th>2017-12-08 03:00:32.244925</th>\n",
       "      <td>263.839996</td>\n",
       "      <td>1.0</td>\n",
       "      <td>263.829987</td>\n",
       "      <td>576.0</td>\n",
       "      <td>263.834991</td>\n",
       "      <td>263.830017</td>\n",
       "      <td>-0.004974</td>\n",
       "      <td>0.019989</td>\n",
       "      <td>0.000038</td>\n",
       "      <td>0.003702</td>\n",
       "    </tr>\n",
       "    <tr>\n",
       "      <th>2017-12-08 03:00:34.284669</th>\n",
       "      <td>263.839996</td>\n",
       "      <td>1.0</td>\n",
       "      <td>263.829987</td>\n",
       "      <td>563.0</td>\n",
       "      <td>263.834991</td>\n",
       "      <td>263.830017</td>\n",
       "      <td>-0.004974</td>\n",
       "      <td>0.014984</td>\n",
       "      <td>0.000038</td>\n",
       "      <td>0.003723</td>\n",
       "    </tr>\n",
       "    <tr>\n",
       "      <th>2017-12-08 03:00:35.874931</th>\n",
       "      <td>263.839996</td>\n",
       "      <td>1.0</td>\n",
       "      <td>263.839996</td>\n",
       "      <td>563.0</td>\n",
       "      <td>263.839996</td>\n",
       "      <td>263.839996</td>\n",
       "      <td>0.000000</td>\n",
       "      <td>0.019989</td>\n",
       "      <td>0.000038</td>\n",
       "      <td>0.003723</td>\n",
       "    </tr>\n",
       "    <tr>\n",
       "      <th>2017-12-08 03:00:37.499670</th>\n",
       "      <td>263.839996</td>\n",
       "      <td>1.0</td>\n",
       "      <td>263.839996</td>\n",
       "      <td>17.0</td>\n",
       "      <td>263.839996</td>\n",
       "      <td>263.839966</td>\n",
       "      <td>-0.000031</td>\n",
       "      <td>0.014984</td>\n",
       "      <td>0.000000</td>\n",
       "      <td>0.003723</td>\n",
       "    </tr>\n",
       "    <tr>\n",
       "      <th>2017-12-08 03:00:39.356631</th>\n",
       "      <td>263.850006</td>\n",
       "      <td>1.0</td>\n",
       "      <td>263.839996</td>\n",
       "      <td>17.0</td>\n",
       "      <td>263.845001</td>\n",
       "      <td>263.840546</td>\n",
       "      <td>-0.004456</td>\n",
       "      <td>0.019989</td>\n",
       "      <td>0.000038</td>\n",
       "      <td>0.003652</td>\n",
       "    </tr>\n",
       "  </tbody>\n",
       "</table>\n",
       "</div>"
      ],
      "text/plain": [
       "                              askPrice  askSize    bidPrice  bidSize  \\\n",
       "2017-12-08 03:00:32.244925  263.839996      1.0  263.829987    576.0   \n",
       "2017-12-08 03:00:34.284669  263.839996      1.0  263.829987    563.0   \n",
       "2017-12-08 03:00:35.874931  263.839996      1.0  263.839996    563.0   \n",
       "2017-12-08 03:00:37.499670  263.839996      1.0  263.839996     17.0   \n",
       "2017-12-08 03:00:39.356631  263.850006      1.0  263.839996     17.0   \n",
       "\n",
       "                                   mid        vwap    spread         v  \\\n",
       "2017-12-08 03:00:32.244925  263.834991  263.830017 -0.004974  0.019989   \n",
       "2017-12-08 03:00:34.284669  263.834991  263.830017 -0.004974  0.014984   \n",
       "2017-12-08 03:00:35.874931  263.839996  263.839996  0.000000  0.019989   \n",
       "2017-12-08 03:00:37.499670  263.839996  263.839966 -0.000031  0.014984   \n",
       "2017-12-08 03:00:39.356631  263.845001  263.840546 -0.004456  0.019989   \n",
       "\n",
       "                              return     sigma  \n",
       "2017-12-08 03:00:32.244925  0.000038  0.003702  \n",
       "2017-12-08 03:00:34.284669  0.000038  0.003723  \n",
       "2017-12-08 03:00:35.874931  0.000038  0.003723  \n",
       "2017-12-08 03:00:37.499670  0.000000  0.003723  \n",
       "2017-12-08 03:00:39.356631  0.000038  0.003652  "
      ]
     },
     "execution_count": 11,
     "metadata": {},
     "output_type": "execute_result"
    }
   ],
   "source": [
    "data.tail()"
   ]
  },
  {
   "cell_type": "code",
   "execution_count": 12,
   "metadata": {
    "collapsed": true
   },
   "outputs": [],
   "source": [
    "df=data\n",
    "X=df[['vwap','v','return','sigma']]\n",
    "y=df.mid"
   ]
  },
  {
   "cell_type": "code",
   "execution_count": 13,
   "metadata": {
    "collapsed": true
   },
   "outputs": [],
   "source": [
    "regr = linear_model.LinearRegression()\n",
    "regr_model=regr.fit(X,y)\n",
    "# save the model to disk\n",
    "filename_rgr = 'rgr.sav'\n",
    "pickle.dump(regr_model, open(filename_rgr, 'wb'))\n",
    "\n",
    "svr_rbf = SVR(kernel='rbf', C=1e3, gamma=0.9) #kernel='linear' #kernel='poly'\n",
    "svr_model = svr_rbf.fit(X, y)\n",
    "# save the model to disk\n",
    "filename_svr = 'svr.sav'\n",
    "pickle.dump(svr_model, open(filename_svr, 'wb'))"
   ]
  },
  {
   "cell_type": "markdown",
   "metadata": {},
   "source": [
    "##### Classification is based on the previous predictions, so need to build the dataframe df_ml"
   ]
  },
  {
   "cell_type": "code",
   "execution_count": 14,
   "metadata": {
    "collapsed": true
   },
   "outputs": [],
   "source": [
    "###Model is already saved from \"/Dropbox/DataScience/ARIMA_model_saving.ipynb\". Here loaded and added to \"df_ml\"\n",
    "def ARIMA_(data):\n",
    "    ### load model\n",
    "    data=data.dropna()\n",
    "    predictions_mid=ARIMA_mid(data.LDmid)\n",
    "    predictions_vwap=ARIMA_vwap(data.LDvwap) \n",
    "    vwap_arima=np.exp(predictions_vwap+data.Lvwap.shift(60))\n",
    "    mid_arima=np.exp(predictions_mid+data.Lmid.shift(60))\n",
    "    df_ml['arima']=data.mid+vwap_arima-mid_arima\n",
    "    \n",
    "def ARIMA_mid(data):\n",
    "    ### load model\n",
    "    mid_arima_loaded = ARIMAResults.load('mid_arima.pkl')\n",
    "    predictions_mid = mid_arima_loaded.predict()\n",
    "    return predictions_mid\n",
    "\n",
    "def ARIMA_vwap(data):\n",
    "    ### load model\n",
    "    vwap_arima_loaded = ARIMAResults.load('vwap_arima.pkl')\n",
    "    predictions_vwap = vwap_arima_loaded.predict()\n",
    "    return predictions_vwap\n",
    "\n",
    "#### KALMAN moving average\n",
    "\n",
    "##KF moving average\n",
    "#https://github.com/pykalman/pykalman\n",
    "\n",
    "# Import a Kalman filter and other useful libraries\n",
    "from pykalman import KalmanFilter\n",
    "import numpy as np\n",
    "import pandas as pd\n",
    "import matplotlib.pyplot as plt\n",
    "from scipy import poly1d\n",
    "\n",
    "def kalman_ma(data):\n",
    "    #x=data.mid\n",
    "    x=data.mid\n",
    "    # Construct a Kalman filter\n",
    "    kf = KalmanFilter(transition_matrices = [1],\n",
    "                  observation_matrices = [1],\n",
    "                  initial_state_mean = 248,\n",
    "                  initial_state_covariance = 1,\n",
    "                  observation_covariance=1,\n",
    "                  transition_covariance=.01)\n",
    "\n",
    "    # Use the observed values of the price to get a rolling mean\n",
    "    state_means, _ = kf.filter(x.values)\n",
    "    state_means = pd.Series(state_means.flatten(), index=x.index)\n",
    "    df_ml['km']=state_means\n",
    "\n",
    "### Linear Regression, sklearn, svm:SVR,linear_model\n",
    "import pickle\n",
    "#from sklearn.cross_validation import train_test_split\n",
    "from sklearn import linear_model\n",
    "from sklearn.svm import SVR\n",
    "from sklearn.preprocessing import MinMaxScaler\n",
    "from sklearn.model_selection import train_test_split\n",
    "from sklearn.svm import SVC\n",
    "\n",
    "\n",
    "## loading model saved from /Dropbox/DataScience/REG_model_saving.ipynb\n",
    "filename_rgr = 'rgr.sav'\n",
    "filename_svr = 'svr.sav'\n",
    "# load the model from disk\n",
    "loaded_rgr_model = pickle.load(open(filename_rgr, 'rb'))\n",
    "loaded_svr_model = pickle.load(open(filename_svr, 'rb'))\n",
    "\n",
    "def strat_lr(data):\n",
    "    #no normalization\n",
    "    \n",
    "    data=data.dropna()\n",
    "    X=data[['vwap','v','return','sigma']]\n",
    "    #y=df[['mid']]\n",
    "    predict_regr=loaded_rgr_model.predict(X)\n",
    "    predict_svr=loaded_svr_model.predict(X)\n",
    "    \n",
    "    df_ml['REG']=predict_regr\n",
    "    df_ml['SVR']=predict_svr\n",
    "    \n",
    "    ## strat_lr(data,dfn) and below needed for normalized data\n",
    "    #df_ml['predict_regr']=predict_regr\n",
    "    #df_ml['predict_svr']=predict_svr\n",
    "    #df_ml['REG']=de_normalise(data.mid,df.predict_regr)\n",
    "    #df_ml['SVR']=de_normalise(data.mid,df.predict_svr)"
   ]
  },
  {
   "cell_type": "markdown",
   "metadata": {},
   "source": [
    "##### creating the df_ml dataset"
   ]
  },
  {
   "cell_type": "code",
   "execution_count": 69,
   "metadata": {
    "collapsed": true
   },
   "outputs": [],
   "source": [
    "df_ml=pd.DataFrame()\n",
    "data=get_csv_pd(filename)\n",
    "data=preprocessing(data)\n",
    "data=data.dropna()\n",
    "df_arima=arima_processing(data)\n",
    "df_ml['mid']=data.mid\n",
    "df_ml['vwap']=data.vwap\n",
    "ARIMA_(df_arima)\n",
    "kalman_ma(data)\n",
    "strat_lr(data)"
   ]
  },
  {
   "cell_type": "code",
   "execution_count": 100,
   "metadata": {
    "collapsed": false
   },
   "outputs": [
    {
     "data": {
      "text/html": [
       "<div>\n",
       "<style>\n",
       "    .dataframe thead tr:only-child th {\n",
       "        text-align: right;\n",
       "    }\n",
       "\n",
       "    .dataframe thead th {\n",
       "        text-align: left;\n",
       "    }\n",
       "\n",
       "    .dataframe tbody tr th {\n",
       "        vertical-align: top;\n",
       "    }\n",
       "</style>\n",
       "<table border=\"1\" class=\"dataframe\">\n",
       "  <thead>\n",
       "    <tr style=\"text-align: right;\">\n",
       "      <th></th>\n",
       "      <th>mid</th>\n",
       "      <th>vwap</th>\n",
       "      <th>arima</th>\n",
       "      <th>km</th>\n",
       "      <th>REG</th>\n",
       "      <th>SVR</th>\n",
       "      <th>UD</th>\n",
       "    </tr>\n",
       "  </thead>\n",
       "  <tbody>\n",
       "    <tr>\n",
       "      <th>2017-12-07 20:13:37.388207</th>\n",
       "      <td>263.304993</td>\n",
       "      <td>263.307831</td>\n",
       "      <td>263.300703</td>\n",
       "      <td>263.297371</td>\n",
       "      <td>263.307217</td>\n",
       "      <td>263.377362</td>\n",
       "      <td>0</td>\n",
       "    </tr>\n",
       "    <tr>\n",
       "      <th>2017-12-07 20:13:37.859897</th>\n",
       "      <td>263.309998</td>\n",
       "      <td>263.309967</td>\n",
       "      <td>263.310746</td>\n",
       "      <td>263.298572</td>\n",
       "      <td>263.309350</td>\n",
       "      <td>263.378741</td>\n",
       "      <td>0</td>\n",
       "    </tr>\n",
       "    <tr>\n",
       "      <th>2017-12-07 20:13:38.330945</th>\n",
       "      <td>263.309998</td>\n",
       "      <td>263.309967</td>\n",
       "      <td>263.308663</td>\n",
       "      <td>263.299659</td>\n",
       "      <td>263.308788</td>\n",
       "      <td>263.378741</td>\n",
       "      <td>0</td>\n",
       "    </tr>\n",
       "    <tr>\n",
       "      <th>2017-12-07 20:13:38.802144</th>\n",
       "      <td>263.315002</td>\n",
       "      <td>263.319916</td>\n",
       "      <td>263.310354</td>\n",
       "      <td>263.301118</td>\n",
       "      <td>263.319292</td>\n",
       "      <td>263.385214</td>\n",
       "      <td>0</td>\n",
       "    </tr>\n",
       "    <tr>\n",
       "      <th>2017-12-07 20:13:39.252239</th>\n",
       "      <td>263.315002</td>\n",
       "      <td>263.319946</td>\n",
       "      <td>263.320369</td>\n",
       "      <td>263.302439</td>\n",
       "      <td>263.319322</td>\n",
       "      <td>263.385234</td>\n",
       "      <td>0</td>\n",
       "    </tr>\n",
       "  </tbody>\n",
       "</table>\n",
       "</div>"
      ],
      "text/plain": [
       "                                   mid        vwap       arima          km  \\\n",
       "2017-12-07 20:13:37.388207  263.304993  263.307831  263.300703  263.297371   \n",
       "2017-12-07 20:13:37.859897  263.309998  263.309967  263.310746  263.298572   \n",
       "2017-12-07 20:13:38.330945  263.309998  263.309967  263.308663  263.299659   \n",
       "2017-12-07 20:13:38.802144  263.315002  263.319916  263.310354  263.301118   \n",
       "2017-12-07 20:13:39.252239  263.315002  263.319946  263.320369  263.302439   \n",
       "\n",
       "                                   REG         SVR  UD  \n",
       "2017-12-07 20:13:37.388207  263.307217  263.377362   0  \n",
       "2017-12-07 20:13:37.859897  263.309350  263.378741   0  \n",
       "2017-12-07 20:13:38.330945  263.308788  263.378741   0  \n",
       "2017-12-07 20:13:38.802144  263.319292  263.385214   0  \n",
       "2017-12-07 20:13:39.252239  263.319322  263.385234   0  "
      ]
     },
     "execution_count": 100,
     "metadata": {},
     "output_type": "execute_result"
    }
   ],
   "source": [
    "df_ml.dropna().head()"
   ]
  },
  {
   "cell_type": "code",
   "execution_count": 71,
   "metadata": {
    "collapsed": false
   },
   "outputs": [
    {
     "data": {
      "text/plain": [
       "22308"
      ]
     },
     "execution_count": 71,
     "metadata": {},
     "output_type": "execute_result"
    }
   ],
   "source": [
    "len(df_ml)"
   ]
  },
  {
   "cell_type": "markdown",
   "metadata": {},
   "source": [
    "### Classification"
   ]
  },
  {
   "cell_type": "code",
   "execution_count": 72,
   "metadata": {
    "collapsed": false
   },
   "outputs": [
    {
     "name": "stderr",
     "output_type": "stream",
     "text": [
      "/home/octo/anaconda2/envs/carnd-term1/lib/python3.5/site-packages/ipykernel/__main__.py:3: SettingWithCopyWarning: \n",
      "A value is trying to be set on a copy of a slice from a DataFrame.\n",
      "Try using .loc[row_indexer,col_indexer] = value instead\n",
      "\n",
      "See the caveats in the documentation: http://pandas.pydata.org/pandas-docs/stable/indexing.html#indexing-view-versus-copy\n",
      "  app.launch_new_instance()\n",
      "/home/octo/anaconda2/envs/carnd-term1/lib/python3.5/site-packages/ipykernel/__main__.py:4: SettingWithCopyWarning: \n",
      "A value is trying to be set on a copy of a slice from a DataFrame.\n",
      "Try using .loc[row_indexer,col_indexer] = value instead\n",
      "\n",
      "See the caveats in the documentation: http://pandas.pydata.org/pandas-docs/stable/indexing.html#indexing-view-versus-copy\n"
     ]
    }
   ],
   "source": [
    "df_ml=df_ml.dropna()\n",
    "data_cl=data.tail(len(df_ml))\n",
    "data_cl['U']=np.where(df_ml.mid>df_ml.km,1,0)\n",
    "data_cl['D']=np.where(df_ml.mid<df_ml.km,-1,0)\n",
    "data_cl=data_cl.dropna()"
   ]
  },
  {
   "cell_type": "code",
   "execution_count": 90,
   "metadata": {
    "collapsed": false
   },
   "outputs": [
    {
     "data": {
      "text/html": [
       "<div>\n",
       "<style>\n",
       "    .dataframe thead tr:only-child th {\n",
       "        text-align: right;\n",
       "    }\n",
       "\n",
       "    .dataframe thead th {\n",
       "        text-align: left;\n",
       "    }\n",
       "\n",
       "    .dataframe tbody tr th {\n",
       "        vertical-align: top;\n",
       "    }\n",
       "</style>\n",
       "<table border=\"1\" class=\"dataframe\">\n",
       "  <thead>\n",
       "    <tr style=\"text-align: right;\">\n",
       "      <th></th>\n",
       "      <th>askPrice</th>\n",
       "      <th>askSize</th>\n",
       "      <th>bidPrice</th>\n",
       "      <th>bidSize</th>\n",
       "      <th>mid</th>\n",
       "      <th>vwap</th>\n",
       "      <th>spread</th>\n",
       "      <th>v</th>\n",
       "      <th>return</th>\n",
       "      <th>sigma</th>\n",
       "      <th>U</th>\n",
       "      <th>D</th>\n",
       "    </tr>\n",
       "  </thead>\n",
       "  <tbody>\n",
       "    <tr>\n",
       "      <th>2017-12-07 20:13:37.388207</th>\n",
       "      <td>263.309998</td>\n",
       "      <td>126.0</td>\n",
       "      <td>263.299988</td>\n",
       "      <td>35.0</td>\n",
       "      <td>263.304993</td>\n",
       "      <td>263.307831</td>\n",
       "      <td>0.002838</td>\n",
       "      <td>0.039978</td>\n",
       "      <td>0.000038</td>\n",
       "      <td>0.003502</td>\n",
       "      <td>1</td>\n",
       "      <td>0</td>\n",
       "    </tr>\n",
       "    <tr>\n",
       "      <th>2017-12-07 20:13:37.859897</th>\n",
       "      <td>263.309998</td>\n",
       "      <td>126.0</td>\n",
       "      <td>263.309998</td>\n",
       "      <td>35.0</td>\n",
       "      <td>263.309998</td>\n",
       "      <td>263.309967</td>\n",
       "      <td>-0.000031</td>\n",
       "      <td>0.040009</td>\n",
       "      <td>0.000038</td>\n",
       "      <td>0.003503</td>\n",
       "      <td>1</td>\n",
       "      <td>0</td>\n",
       "    </tr>\n",
       "    <tr>\n",
       "      <th>2017-12-07 20:13:38.330945</th>\n",
       "      <td>263.309998</td>\n",
       "      <td>126.0</td>\n",
       "      <td>263.309998</td>\n",
       "      <td>1.0</td>\n",
       "      <td>263.309998</td>\n",
       "      <td>263.309967</td>\n",
       "      <td>-0.000031</td>\n",
       "      <td>0.040009</td>\n",
       "      <td>0.000000</td>\n",
       "      <td>0.003503</td>\n",
       "      <td>1</td>\n",
       "      <td>0</td>\n",
       "    </tr>\n",
       "    <tr>\n",
       "      <th>2017-12-07 20:13:38.802144</th>\n",
       "      <td>263.320007</td>\n",
       "      <td>126.0</td>\n",
       "      <td>263.309998</td>\n",
       "      <td>1.0</td>\n",
       "      <td>263.315002</td>\n",
       "      <td>263.319916</td>\n",
       "      <td>0.004913</td>\n",
       "      <td>0.040009</td>\n",
       "      <td>0.000038</td>\n",
       "      <td>0.003473</td>\n",
       "      <td>1</td>\n",
       "      <td>0</td>\n",
       "    </tr>\n",
       "    <tr>\n",
       "      <th>2017-12-07 20:13:39.252239</th>\n",
       "      <td>263.320007</td>\n",
       "      <td>239.0</td>\n",
       "      <td>263.309998</td>\n",
       "      <td>1.0</td>\n",
       "      <td>263.315002</td>\n",
       "      <td>263.319946</td>\n",
       "      <td>0.004944</td>\n",
       "      <td>0.040009</td>\n",
       "      <td>0.000038</td>\n",
       "      <td>0.003473</td>\n",
       "      <td>1</td>\n",
       "      <td>0</td>\n",
       "    </tr>\n",
       "  </tbody>\n",
       "</table>\n",
       "</div>"
      ],
      "text/plain": [
       "                              askPrice  askSize    bidPrice  bidSize  \\\n",
       "2017-12-07 20:13:37.388207  263.309998    126.0  263.299988     35.0   \n",
       "2017-12-07 20:13:37.859897  263.309998    126.0  263.309998     35.0   \n",
       "2017-12-07 20:13:38.330945  263.309998    126.0  263.309998      1.0   \n",
       "2017-12-07 20:13:38.802144  263.320007    126.0  263.309998      1.0   \n",
       "2017-12-07 20:13:39.252239  263.320007    239.0  263.309998      1.0   \n",
       "\n",
       "                                   mid        vwap    spread         v  \\\n",
       "2017-12-07 20:13:37.388207  263.304993  263.307831  0.002838  0.039978   \n",
       "2017-12-07 20:13:37.859897  263.309998  263.309967 -0.000031  0.040009   \n",
       "2017-12-07 20:13:38.330945  263.309998  263.309967 -0.000031  0.040009   \n",
       "2017-12-07 20:13:38.802144  263.315002  263.319916  0.004913  0.040009   \n",
       "2017-12-07 20:13:39.252239  263.315002  263.319946  0.004944  0.040009   \n",
       "\n",
       "                              return     sigma  U  D  \n",
       "2017-12-07 20:13:37.388207  0.000038  0.003502  1  0  \n",
       "2017-12-07 20:13:37.859897  0.000038  0.003503  1  0  \n",
       "2017-12-07 20:13:38.330945  0.000000  0.003503  1  0  \n",
       "2017-12-07 20:13:38.802144  0.000038  0.003473  1  0  \n",
       "2017-12-07 20:13:39.252239  0.000038  0.003473  1  0  "
      ]
     },
     "execution_count": 90,
     "metadata": {},
     "output_type": "execute_result"
    }
   ],
   "source": [
    "data_cl.head()"
   ]
  },
  {
   "cell_type": "code",
   "execution_count": 74,
   "metadata": {
    "collapsed": true
   },
   "outputs": [],
   "source": [
    "import matplotlib.pyplot as plt\n",
    "import seaborn as sns; sns.set()\n",
    "%matplotlib inline"
   ]
  },
  {
   "cell_type": "code",
   "execution_count": 89,
   "metadata": {
    "collapsed": false
   },
   "outputs": [
    {
     "data": {
      "text/plain": [
       "<matplotlib.axes._subplots.AxesSubplot at 0x7f9801fa1518>"
      ]
     },
     "execution_count": 89,
     "metadata": {},
     "output_type": "execute_result"
    },
    {
     "data": {
      "image/png": "[encoded data removed]",
      "text/plain": [
       "<matplotlib.figure.Figure at 0x7f98100c7d30>"
      ]
     },
     "metadata": {},
     "output_type": "display_data"
    }
   ],
   "source": [
    "data_cl['U'].plot(kind='hist', grid=True, title='up')"
   ]
  },
  {
   "cell_type": "code",
   "execution_count": 88,
   "metadata": {
    "collapsed": false
   },
   "outputs": [
    {
     "data": {
      "text/plain": [
       "<matplotlib.axes._subplots.AxesSubplot at 0x7f98100809b0>"
      ]
     },
     "execution_count": 88,
     "metadata": {},
     "output_type": "execute_result"
    },
    {
     "data": {
      "image/png": "[encoded data removed]",
      "text/plain": [
       "<matplotlib.figure.Figure at 0x7f98108b47b8>"
      ]
     },
     "metadata": {},
     "output_type": "display_data"
    }
   ],
   "source": [
    "data_cl['D'].plot(kind='hist', grid=True, title='down')"
   ]
  },
  {
   "cell_type": "markdown",
   "metadata": {},
   "source": [
    "##### around 25% up and 25% down"
   ]
  },
  {
   "cell_type": "markdown",
   "metadata": {},
   "source": [
    "### saving classification model"
   ]
  },
  {
   "cell_type": "code",
   "execution_count": 78,
   "metadata": {
    "collapsed": true
   },
   "outputs": [],
   "source": [
    "X=data_cl[['askPrice','askSize','bidPrice','bidSize','spread','v','return','sigma']]\n",
    "y1=data_cl.U\n",
    "y2=data_cl.D\n",
    "\n",
    "svm = SVC(kernel='linear')\n",
    "lm = linear_model.LogisticRegression(C=1e4)"
   ]
  },
  {
   "cell_type": "code",
   "execution_count": 79,
   "metadata": {
    "collapsed": false
   },
   "outputs": [],
   "source": [
    "svm_model_up=svm.fit(X,y1)\n",
    "lm_model_up=lm.fit(X,y1)\n",
    "svm_model_dn=svm.fit(X,y2)\n",
    "lm_model_dn =lm.fit(X,y2)"
   ]
  },
  {
   "cell_type": "code",
   "execution_count": 80,
   "metadata": {
    "collapsed": true
   },
   "outputs": [],
   "source": [
    "# save the model to disk\n",
    "filename_svm_model_up = 'svm_model_up.sav'\n",
    "filename_lm_model_up = 'lm_model_up.sav'\n",
    "filename_svm_model_dn = 'svm_model_dn.sav'\n",
    "filename_lm_model_dn = 'lm_model_dn.sav'\n",
    "pickle.dump(svm_model_up, open(filename_svm_model_up, 'wb'))\n",
    "pickle.dump(lm_model_up, open(filename_lm_model_up, 'wb'))\n",
    "pickle.dump(svm_model_dn, open(filename_svm_model_dn, 'wb'))\n",
    "pickle.dump(lm_model_dn, open(filename_lm_model_dn , 'wb'))"
   ]
  },
  {
   "cell_type": "markdown",
   "metadata": {},
   "source": [
    "### loading classification for LSTM model saving"
   ]
  },
  {
   "cell_type": "code",
   "execution_count": 91,
   "metadata": {
    "collapsed": true
   },
   "outputs": [],
   "source": [
    "#### loading classification model from /Dropbox/DataScience/ML_20Sep\n",
    "filename_svm_model_up = 'svm_model_up.sav'\n",
    "filename_lm_model_up = 'lm_model_up.sav'\n",
    "filename_svm_model_dn = 'svm_model_dn.sav'\n",
    "filename_lm_model_dn = 'lm_model_dn.sav'\n",
    "# load the model from disk\n",
    "loaded_svm_up_model = pickle.load(open(filename_svm_model_up, 'rb'))\n",
    "loaded_lm_up_model = pickle.load(open(filename_lm_model_up, 'rb'))\n",
    "loaded_svm_dn_model = pickle.load(open(filename_svm_model_dn, 'rb'))\n",
    "loaded_lm_dn_model = pickle.load(open(filename_lm_model_dn, 'rb'))\n",
    "\n",
    "def classification_up_dn(data):\n",
    "    X=data[['askPrice','askSize','bidPrice','bidSize','spread','v','return','sigma']]\n",
    "    \n",
    "    predict_svm_up=loaded_svm_up_model.predict(X)\n",
    "    predict_lm_up=loaded_lm_up_model.predict(X)\n",
    "    predict_svm_dn=loaded_svm_dn_model.predict(X)\n",
    "    predict_lm_dn=loaded_lm_dn_model.predict(X)\n",
    "    \n",
    "    X['predict_svm_up']=predict_svm_up\n",
    "    X['predict_lm_up']=predict_lm_up\n",
    "    X['predict_svm_dn']=predict_svm_dn\n",
    "    X['predict_lm_dn']=predict_lm_dn\n",
    "    \n",
    "    #X['predict_svm']=X.predict_svm_up+X.predict_svm_dn\n",
    "    #X['predict_lm']=X.predict_lm_up+X.predict_lm_dn\n",
    "    \n",
    "    X['U']=np.where(np.logical_or(X.predict_svm_up==1,X.predict_lm_up==1),1,0)\n",
    "    X['D']=np.where(np.logical_or(X.predict_svm_dn==-1,X.predict_lm_dn==-1),-1,0)  \n",
    "       \n",
    "    X['UD']=X.U+X.D\n",
    "    return X"
   ]
  },
  {
   "cell_type": "code",
   "execution_count": 93,
   "metadata": {
    "collapsed": false
   },
   "outputs": [
    {
     "name": "stderr",
     "output_type": "stream",
     "text": [
      "/home/octo/anaconda2/envs/carnd-term1/lib/python3.5/site-packages/ipykernel/__main__.py:20: SettingWithCopyWarning: \n",
      "A value is trying to be set on a copy of a slice from a DataFrame.\n",
      "Try using .loc[row_indexer,col_indexer] = value instead\n",
      "\n",
      "See the caveats in the documentation: http://pandas.pydata.org/pandas-docs/stable/indexing.html#indexing-view-versus-copy\n",
      "/home/octo/anaconda2/envs/carnd-term1/lib/python3.5/site-packages/ipykernel/__main__.py:21: SettingWithCopyWarning: \n",
      "A value is trying to be set on a copy of a slice from a DataFrame.\n",
      "Try using .loc[row_indexer,col_indexer] = value instead\n",
      "\n",
      "See the caveats in the documentation: http://pandas.pydata.org/pandas-docs/stable/indexing.html#indexing-view-versus-copy\n",
      "/home/octo/anaconda2/envs/carnd-term1/lib/python3.5/site-packages/ipykernel/__main__.py:22: SettingWithCopyWarning: \n",
      "A value is trying to be set on a copy of a slice from a DataFrame.\n",
      "Try using .loc[row_indexer,col_indexer] = value instead\n",
      "\n",
      "See the caveats in the documentation: http://pandas.pydata.org/pandas-docs/stable/indexing.html#indexing-view-versus-copy\n"
     ]
    }
   ],
   "source": [
    "class_data=classification_up_dn(data_cl)"
   ]
  },
  {
   "cell_type": "code",
   "execution_count": 99,
   "metadata": {
    "collapsed": false
   },
   "outputs": [
    {
     "data": {
      "text/html": [
       "<div>\n",
       "<style>\n",
       "    .dataframe thead tr:only-child th {\n",
       "        text-align: right;\n",
       "    }\n",
       "\n",
       "    .dataframe thead th {\n",
       "        text-align: left;\n",
       "    }\n",
       "\n",
       "    .dataframe tbody tr th {\n",
       "        vertical-align: top;\n",
       "    }\n",
       "</style>\n",
       "<table border=\"1\" class=\"dataframe\">\n",
       "  <thead>\n",
       "    <tr style=\"text-align: right;\">\n",
       "      <th></th>\n",
       "      <th>askPrice</th>\n",
       "      <th>askSize</th>\n",
       "      <th>bidPrice</th>\n",
       "      <th>bidSize</th>\n",
       "      <th>mid</th>\n",
       "      <th>vwap</th>\n",
       "      <th>spread</th>\n",
       "      <th>v</th>\n",
       "      <th>return</th>\n",
       "      <th>sigma</th>\n",
       "      <th>U</th>\n",
       "      <th>D</th>\n",
       "    </tr>\n",
       "  </thead>\n",
       "  <tbody>\n",
       "    <tr>\n",
       "      <th>2017-12-08 03:00:32.244925</th>\n",
       "      <td>263.839996</td>\n",
       "      <td>1.0</td>\n",
       "      <td>263.829987</td>\n",
       "      <td>576.0</td>\n",
       "      <td>263.834991</td>\n",
       "      <td>263.830017</td>\n",
       "      <td>-0.004974</td>\n",
       "      <td>0.019989</td>\n",
       "      <td>0.000038</td>\n",
       "      <td>0.003702</td>\n",
       "      <td>1</td>\n",
       "      <td>0</td>\n",
       "    </tr>\n",
       "    <tr>\n",
       "      <th>2017-12-08 03:00:34.284669</th>\n",
       "      <td>263.839996</td>\n",
       "      <td>1.0</td>\n",
       "      <td>263.829987</td>\n",
       "      <td>563.0</td>\n",
       "      <td>263.834991</td>\n",
       "      <td>263.830017</td>\n",
       "      <td>-0.004974</td>\n",
       "      <td>0.014984</td>\n",
       "      <td>0.000038</td>\n",
       "      <td>0.003723</td>\n",
       "      <td>1</td>\n",
       "      <td>0</td>\n",
       "    </tr>\n",
       "    <tr>\n",
       "      <th>2017-12-08 03:00:35.874931</th>\n",
       "      <td>263.839996</td>\n",
       "      <td>1.0</td>\n",
       "      <td>263.839996</td>\n",
       "      <td>563.0</td>\n",
       "      <td>263.839996</td>\n",
       "      <td>263.839996</td>\n",
       "      <td>0.000000</td>\n",
       "      <td>0.019989</td>\n",
       "      <td>0.000038</td>\n",
       "      <td>0.003723</td>\n",
       "      <td>1</td>\n",
       "      <td>0</td>\n",
       "    </tr>\n",
       "    <tr>\n",
       "      <th>2017-12-08 03:00:37.499670</th>\n",
       "      <td>263.839996</td>\n",
       "      <td>1.0</td>\n",
       "      <td>263.839996</td>\n",
       "      <td>17.0</td>\n",
       "      <td>263.839996</td>\n",
       "      <td>263.839966</td>\n",
       "      <td>-0.000031</td>\n",
       "      <td>0.014984</td>\n",
       "      <td>0.000000</td>\n",
       "      <td>0.003723</td>\n",
       "      <td>1</td>\n",
       "      <td>0</td>\n",
       "    </tr>\n",
       "    <tr>\n",
       "      <th>2017-12-08 03:00:39.356631</th>\n",
       "      <td>263.850006</td>\n",
       "      <td>1.0</td>\n",
       "      <td>263.839996</td>\n",
       "      <td>17.0</td>\n",
       "      <td>263.845001</td>\n",
       "      <td>263.840546</td>\n",
       "      <td>-0.004456</td>\n",
       "      <td>0.019989</td>\n",
       "      <td>0.000038</td>\n",
       "      <td>0.003652</td>\n",
       "      <td>1</td>\n",
       "      <td>0</td>\n",
       "    </tr>\n",
       "  </tbody>\n",
       "</table>\n",
       "</div>"
      ],
      "text/plain": [
       "                              askPrice  askSize    bidPrice  bidSize  \\\n",
       "2017-12-08 03:00:32.244925  263.839996      1.0  263.829987    576.0   \n",
       "2017-12-08 03:00:34.284669  263.839996      1.0  263.829987    563.0   \n",
       "2017-12-08 03:00:35.874931  263.839996      1.0  263.839996    563.0   \n",
       "2017-12-08 03:00:37.499670  263.839996      1.0  263.839996     17.0   \n",
       "2017-12-08 03:00:39.356631  263.850006      1.0  263.839996     17.0   \n",
       "\n",
       "                                   mid        vwap    spread         v  \\\n",
       "2017-12-08 03:00:32.244925  263.834991  263.830017 -0.004974  0.019989   \n",
       "2017-12-08 03:00:34.284669  263.834991  263.830017 -0.004974  0.014984   \n",
       "2017-12-08 03:00:35.874931  263.839996  263.839996  0.000000  0.019989   \n",
       "2017-12-08 03:00:37.499670  263.839996  263.839966 -0.000031  0.014984   \n",
       "2017-12-08 03:00:39.356631  263.845001  263.840546 -0.004456  0.019989   \n",
       "\n",
       "                              return     sigma  U  D  \n",
       "2017-12-08 03:00:32.244925  0.000038  0.003702  1  0  \n",
       "2017-12-08 03:00:34.284669  0.000038  0.003723  1  0  \n",
       "2017-12-08 03:00:35.874931  0.000038  0.003723  1  0  \n",
       "2017-12-08 03:00:37.499670  0.000000  0.003723  1  0  \n",
       "2017-12-08 03:00:39.356631  0.000038  0.003652  1  0  "
      ]
     },
     "execution_count": 99,
     "metadata": {},
     "output_type": "execute_result"
    }
   ],
   "source": [
    "data_cl.tail()"
   ]
  },
  {
   "cell_type": "code",
   "execution_count": 97,
   "metadata": {
    "collapsed": false
   },
   "outputs": [
    {
     "data": {
      "text/plain": [
       "<matplotlib.axes._subplots.AxesSubplot at 0x7f981028ec18>"
      ]
     },
     "execution_count": 97,
     "metadata": {},
     "output_type": "execute_result"
    },
    {
     "data": {
      "image/png": "[encoded data removed]",
      "text/plain": [
       "<matplotlib.figure.Figure at 0x7f9810077f98>"
      ]
     },
     "metadata": {},
     "output_type": "display_data"
    }
   ],
   "source": [
    "class_data['predict_svm_up'].plot(kind='hist', grid=True, title='up-down')"
   ]
  },
  {
   "cell_type": "markdown",
   "metadata": {},
   "source": [
    "### there is problem in classification prediction, so direct use of UD"
   ]
  },
  {
   "cell_type": "code",
   "execution_count": 104,
   "metadata": {
    "collapsed": false
   },
   "outputs": [
    {
     "name": "stderr",
     "output_type": "stream",
     "text": [
      "/home/octo/anaconda2/envs/carnd-term1/lib/python3.5/site-packages/ipykernel/__main__.py:13: SettingWithCopyWarning: \n",
      "A value is trying to be set on a copy of a slice from a DataFrame.\n",
      "Try using .loc[row_indexer,col_indexer] = value instead\n",
      "\n",
      "See the caveats in the documentation: http://pandas.pydata.org/pandas-docs/stable/indexing.html#indexing-view-versus-copy\n",
      "/home/octo/anaconda2/envs/carnd-term1/lib/python3.5/site-packages/ipykernel/__main__.py:14: SettingWithCopyWarning: \n",
      "A value is trying to be set on a copy of a slice from a DataFrame.\n",
      "Try using .loc[row_indexer,col_indexer] = value instead\n",
      "\n",
      "See the caveats in the documentation: http://pandas.pydata.org/pandas-docs/stable/indexing.html#indexing-view-versus-copy\n"
     ]
    }
   ],
   "source": [
    "df_ml=pd.DataFrame()\n",
    "data=get_csv_pd(filename)\n",
    "data=preprocessing(data)\n",
    "data=data.dropna()\n",
    "df_arima=arima_processing(data)\n",
    "df_ml['mid']=data.mid\n",
    "df_ml['vwap']=data.vwap\n",
    "ARIMA_(df_arima)\n",
    "kalman_ma(data)\n",
    "strat_lr(data)\n",
    "df_ml=df_ml.dropna()\n",
    "data_cl=data.tail(len(df_ml))\n",
    "data_cl['U']=np.where(df_ml.mid>df_ml.km,1,0)\n",
    "data_cl['D']=np.where(df_ml.mid<df_ml.km,-1,0)\n",
    "data_cl=data_cl.dropna()\n",
    "df_ml['UD']=data_cl.U+data_cl.D"
   ]
  },
  {
   "cell_type": "code",
   "execution_count": 105,
   "metadata": {
    "collapsed": false
   },
   "outputs": [
    {
     "data": {
      "text/html": [
       "<div>\n",
       "<style>\n",
       "    .dataframe thead tr:only-child th {\n",
       "        text-align: right;\n",
       "    }\n",
       "\n",
       "    .dataframe thead th {\n",
       "        text-align: left;\n",
       "    }\n",
       "\n",
       "    .dataframe tbody tr th {\n",
       "        vertical-align: top;\n",
       "    }\n",
       "</style>\n",
       "<table border=\"1\" class=\"dataframe\">\n",
       "  <thead>\n",
       "    <tr style=\"text-align: right;\">\n",
       "      <th></th>\n",
       "      <th>mid</th>\n",
       "      <th>vwap</th>\n",
       "      <th>arima</th>\n",
       "      <th>km</th>\n",
       "      <th>REG</th>\n",
       "      <th>SVR</th>\n",
       "      <th>UD</th>\n",
       "    </tr>\n",
       "  </thead>\n",
       "  <tbody>\n",
       "    <tr>\n",
       "      <th>2017-12-07 20:13:37.388207</th>\n",
       "      <td>263.304993</td>\n",
       "      <td>263.307831</td>\n",
       "      <td>263.300703</td>\n",
       "      <td>263.297371</td>\n",
       "      <td>263.307217</td>\n",
       "      <td>263.377362</td>\n",
       "      <td>1</td>\n",
       "    </tr>\n",
       "    <tr>\n",
       "      <th>2017-12-07 20:13:37.859897</th>\n",
       "      <td>263.309998</td>\n",
       "      <td>263.309967</td>\n",
       "      <td>263.310746</td>\n",
       "      <td>263.298572</td>\n",
       "      <td>263.309350</td>\n",
       "      <td>263.378741</td>\n",
       "      <td>1</td>\n",
       "    </tr>\n",
       "    <tr>\n",
       "      <th>2017-12-07 20:13:38.330945</th>\n",
       "      <td>263.309998</td>\n",
       "      <td>263.309967</td>\n",
       "      <td>263.308663</td>\n",
       "      <td>263.299659</td>\n",
       "      <td>263.308788</td>\n",
       "      <td>263.378741</td>\n",
       "      <td>1</td>\n",
       "    </tr>\n",
       "    <tr>\n",
       "      <th>2017-12-07 20:13:38.802144</th>\n",
       "      <td>263.315002</td>\n",
       "      <td>263.319916</td>\n",
       "      <td>263.310354</td>\n",
       "      <td>263.301118</td>\n",
       "      <td>263.319292</td>\n",
       "      <td>263.385214</td>\n",
       "      <td>1</td>\n",
       "    </tr>\n",
       "    <tr>\n",
       "      <th>2017-12-07 20:13:39.252239</th>\n",
       "      <td>263.315002</td>\n",
       "      <td>263.319946</td>\n",
       "      <td>263.320369</td>\n",
       "      <td>263.302439</td>\n",
       "      <td>263.319322</td>\n",
       "      <td>263.385234</td>\n",
       "      <td>1</td>\n",
       "    </tr>\n",
       "  </tbody>\n",
       "</table>\n",
       "</div>"
      ],
      "text/plain": [
       "                                   mid        vwap       arima          km  \\\n",
       "2017-12-07 20:13:37.388207  263.304993  263.307831  263.300703  263.297371   \n",
       "2017-12-07 20:13:37.859897  263.309998  263.309967  263.310746  263.298572   \n",
       "2017-12-07 20:13:38.330945  263.309998  263.309967  263.308663  263.299659   \n",
       "2017-12-07 20:13:38.802144  263.315002  263.319916  263.310354  263.301118   \n",
       "2017-12-07 20:13:39.252239  263.315002  263.319946  263.320369  263.302439   \n",
       "\n",
       "                                   REG         SVR  UD  \n",
       "2017-12-07 20:13:37.388207  263.307217  263.377362   1  \n",
       "2017-12-07 20:13:37.859897  263.309350  263.378741   1  \n",
       "2017-12-07 20:13:38.330945  263.308788  263.378741   1  \n",
       "2017-12-07 20:13:38.802144  263.319292  263.385214   1  \n",
       "2017-12-07 20:13:39.252239  263.319322  263.385234   1  "
      ]
     },
     "execution_count": 105,
     "metadata": {},
     "output_type": "execute_result"
    }
   ],
   "source": [
    "df_ml.head()"
   ]
  },
  {
   "cell_type": "code",
   "execution_count": 106,
   "metadata": {
    "collapsed": false
   },
   "outputs": [
    {
     "data": {
      "text/plain": [
       "<matplotlib.axes._subplots.AxesSubplot at 0x7f981036f400>"
      ]
     },
     "execution_count": 106,
     "metadata": {},
     "output_type": "execute_result"
    },
    {
     "data": {
      "image/png": "[encoded data removed]",
      "text/plain": [
       "<matplotlib.figure.Figure at 0x7f9810117a90>"
      ]
     },
     "metadata": {},
     "output_type": "display_data"
    }
   ],
   "source": [
    "df_ml['UD'].plot(kind='hist', grid=True, title='up-down')"
   ]
  },
  {
   "cell_type": "code",
   "execution_count": 114,
   "metadata": {
    "collapsed": true
   },
   "outputs": [],
   "source": [
    "### LSTM\n",
    "\n",
    "#df.loc[:, cols].prod(axis=1)\n",
    "def lstm_processing(df):\n",
    "    df=df.dropna()\n",
    "    df_price=df[['mid','vwap','arima','km','REG','SVR']]\n",
    "    #normalization\n",
    "    dfn=np.log(df_price)\n",
    "    #dfn['UD']=df.UD\n",
    "    return dfn\n",
    "\n",
    "# convert an array of values into a dataset matrix\n",
    "def create_dataset(dataset, look_back=1):\n",
    "    dataX, dataY = [], []\n",
    "    for i in range(len(dataset)-look_back-1):\n",
    "        a = dataset[i:(i+look_back), 0]\n",
    "        b = dataset[i:(i+look_back), 1]\n",
    "        c = dataset[i:(i+look_back), 2]\n",
    "        d = dataset[i:(i+look_back), 3]\n",
    "        e=  dataset[i:(i+look_back), 4]\n",
    "        f = dataset[i:(i+look_back), 5]\n",
    "        #g=  dataset[i:(i+look_back), 6]\n",
    "        #dataX.append(np.c_[b,c,d,e,f,g])\n",
    "        dataX.append(np.c_[b,c,d,e,f])\n",
    "        #dataX.append(b)\n",
    "        #dataX.append(c)\n",
    "        #dataX.append(d)\n",
    "        #dataX.append(e)\n",
    "        #dataX.concatenate((a,bT,cT,dT,eT),axis=1)\n",
    "        dataY.append(a)\n",
    "    return np.array(dataX), np.array(dataY)"
   ]
  },
  {
   "cell_type": "code",
   "execution_count": 115,
   "metadata": {
    "collapsed": true
   },
   "outputs": [],
   "source": [
    "#normalization\n",
    "df_lstm=lstm_processing(df_ml)\n",
    "df_lstm=df_lstm.dropna()\n",
    "dataset=df_lstm.values\n",
    "dataset = dataset.astype('float32')\n",
    "# reshape into X=t and Y=t+1\n",
    "look_back = 3\n",
    "X_,Y_ = create_dataset(dataset,look_back)\n",
    "    \n",
    "# reshape input to be [samples, time steps, features]\n",
    "X_ = numpy.reshape(X_, (X_.shape[0],X_.shape[1],X_.shape[2]))"
   ]
  },
  {
   "cell_type": "code",
   "execution_count": 116,
   "metadata": {
    "collapsed": false
   },
   "outputs": [
    {
     "data": {
      "text/html": [
       "<div>\n",
       "<style>\n",
       "    .dataframe thead tr:only-child th {\n",
       "        text-align: right;\n",
       "    }\n",
       "\n",
       "    .dataframe thead th {\n",
       "        text-align: left;\n",
       "    }\n",
       "\n",
       "    .dataframe tbody tr th {\n",
       "        vertical-align: top;\n",
       "    }\n",
       "</style>\n",
       "<table border=\"1\" class=\"dataframe\">\n",
       "  <thead>\n",
       "    <tr style=\"text-align: right;\">\n",
       "      <th></th>\n",
       "      <th>mid</th>\n",
       "      <th>vwap</th>\n",
       "      <th>arima</th>\n",
       "      <th>km</th>\n",
       "      <th>REG</th>\n",
       "      <th>SVR</th>\n",
       "    </tr>\n",
       "  </thead>\n",
       "  <tbody>\n",
       "    <tr>\n",
       "      <th>2017-12-07 20:13:37.388207</th>\n",
       "      <td>5.573313</td>\n",
       "      <td>5.573324</td>\n",
       "      <td>5.573297</td>\n",
       "      <td>5.573284</td>\n",
       "      <td>5.573321</td>\n",
       "      <td>5.573588</td>\n",
       "    </tr>\n",
       "    <tr>\n",
       "      <th>2017-12-07 20:13:37.859897</th>\n",
       "      <td>5.573332</td>\n",
       "      <td>5.573332</td>\n",
       "      <td>5.573335</td>\n",
       "      <td>5.573289</td>\n",
       "      <td>5.573330</td>\n",
       "      <td>5.573593</td>\n",
       "    </tr>\n",
       "    <tr>\n",
       "      <th>2017-12-07 20:13:38.330945</th>\n",
       "      <td>5.573332</td>\n",
       "      <td>5.573332</td>\n",
       "      <td>5.573327</td>\n",
       "      <td>5.573293</td>\n",
       "      <td>5.573327</td>\n",
       "      <td>5.573593</td>\n",
       "    </tr>\n",
       "    <tr>\n",
       "      <th>2017-12-07 20:13:38.802144</th>\n",
       "      <td>5.573351</td>\n",
       "      <td>5.573370</td>\n",
       "      <td>5.573333</td>\n",
       "      <td>5.573298</td>\n",
       "      <td>5.573367</td>\n",
       "      <td>5.573618</td>\n",
       "    </tr>\n",
       "    <tr>\n",
       "      <th>2017-12-07 20:13:39.252239</th>\n",
       "      <td>5.573351</td>\n",
       "      <td>5.573370</td>\n",
       "      <td>5.573371</td>\n",
       "      <td>5.573303</td>\n",
       "      <td>5.573367</td>\n",
       "      <td>5.573618</td>\n",
       "    </tr>\n",
       "  </tbody>\n",
       "</table>\n",
       "</div>"
      ],
      "text/plain": [
       "                                 mid      vwap     arima        km       REG  \\\n",
       "2017-12-07 20:13:37.388207  5.573313  5.573324  5.573297  5.573284  5.573321   \n",
       "2017-12-07 20:13:37.859897  5.573332  5.573332  5.573335  5.573289  5.573330   \n",
       "2017-12-07 20:13:38.330945  5.573332  5.573332  5.573327  5.573293  5.573327   \n",
       "2017-12-07 20:13:38.802144  5.573351  5.573370  5.573333  5.573298  5.573367   \n",
       "2017-12-07 20:13:39.252239  5.573351  5.573370  5.573371  5.573303  5.573367   \n",
       "\n",
       "                                 SVR  \n",
       "2017-12-07 20:13:37.388207  5.573588  \n",
       "2017-12-07 20:13:37.859897  5.573593  \n",
       "2017-12-07 20:13:38.330945  5.573593  \n",
       "2017-12-07 20:13:38.802144  5.573618  \n",
       "2017-12-07 20:13:39.252239  5.573618  "
      ]
     },
     "execution_count": 116,
     "metadata": {},
     "output_type": "execute_result"
    }
   ],
   "source": [
    "df_lstm.head()"
   ]
  },
  {
   "cell_type": "code",
   "execution_count": 126,
   "metadata": {
    "collapsed": false
   },
   "outputs": [
    {
     "data": {
      "text/plain": [
       "\"\\n# create and fit the LSTM network\\nmodel = Sequential()\\nmodel.add(LSTM(4, input_shape=(look_back,5)))\\nmodel.add(Dense(1))\\nmodel.compile(loss='mean_squared_error', optimizer='adam')\\nmodel.fit(X_,Y_, epochs, batch_size, verbose=2)\\n\""
      ]
     },
     "execution_count": 126,
     "metadata": {},
     "output_type": "execute_result"
    }
   ],
   "source": [
    "'''\n",
    "# create and fit the LSTM network\n",
    "model = Sequential()\n",
    "model.add(LSTM(4, input_shape=(look_back,5)))\n",
    "model.add(Dense(1))\n",
    "model.compile(loss='mean_squared_error', optimizer='adam')\n",
    "model.fit(X_,Y_, epochs, batch_size, verbose=2)\n",
    "'''"
   ]
  },
  {
   "cell_type": "code",
   "execution_count": 127,
   "metadata": {
    "collapsed": true
   },
   "outputs": [],
   "source": [
    "def build_model(layers):\n",
    "    model = Sequential()\n",
    "\n",
    "    model.add(LSTM(\n",
    "        input_dim=layers[0],\n",
    "        output_dim=layers[1],\n",
    "        return_sequences=True))\n",
    "    model.add(Dropout(0.2))\n",
    "\n",
    "    model.add(LSTM(\n",
    "        layers[2],\n",
    "        return_sequences=False))\n",
    "    model.add(Dropout(0.2))\n",
    "\n",
    "    model.add(Dense(\n",
    "        output_dim=layers[3]))\n",
    "    model.add(Activation(\"linear\"))\n",
    "\n",
    "    start = time.time()\n",
    "    model.compile(loss=\"mse\", optimizer=\"rmsprop\")\n",
    "    print (\"Compilation Time : \", time.time() - start)\n",
    "    return model"
   ]
  },
  {
   "cell_type": "code",
   "execution_count": 130,
   "metadata": {
    "collapsed": false
   },
   "outputs": [
    {
     "name": "stdout",
     "output_type": "stream",
     "text": [
      "Compilation Time :  0.03835558891296387\n"
     ]
    }
   ],
   "source": [
    "epochs=10\n",
    "batch_size=50\n",
    "layers=[5, 50, 100,3]\n",
    "# create and fit the LSTM network\n",
    "model = build_model(layers)"
   ]
  },
  {
   "cell_type": "code",
   "execution_count": 131,
   "metadata": {
    "collapsed": false
   },
   "outputs": [
    {
     "name": "stdout",
     "output_type": "stream",
     "text": [
      "Epoch 1/50\n",
      "15s - loss: 0.2450\n",
      "Epoch 2/50\n",
      "14s - loss: 0.0746\n",
      "Epoch 3/50\n",
      "13s - loss: 0.0636\n",
      "Epoch 4/50\n",
      "13s - loss: 0.0559\n",
      "Epoch 5/50\n",
      "13s - loss: 0.0493\n",
      "Epoch 6/50\n",
      "16s - loss: 0.0431\n",
      "Epoch 7/50\n",
      "16s - loss: 0.0373\n",
      "Epoch 8/50\n",
      "15s - loss: 0.0316\n",
      "Epoch 9/50\n",
      "14s - loss: 0.0268\n",
      "Epoch 10/50\n",
      "16s - loss: 0.0225\n",
      "Epoch 11/50\n",
      "13s - loss: 0.0182\n",
      "Epoch 12/50\n",
      "16s - loss: 0.0148\n",
      "Epoch 13/50\n",
      "13s - loss: 0.0114\n",
      "Epoch 14/50\n",
      "17s - loss: 0.0089\n",
      "Epoch 15/50\n",
      "14s - loss: 0.0065\n",
      "Epoch 16/50\n",
      "17s - loss: 0.0046\n",
      "Epoch 17/50\n",
      "16s - loss: 0.0030\n",
      "Epoch 18/50\n",
      "15s - loss: 0.0018\n",
      "Epoch 19/50\n",
      "15s - loss: 9.0651e-04\n",
      "Epoch 20/50\n",
      "17s - loss: 3.5593e-04\n",
      "Epoch 21/50\n",
      "16s - loss: 8.4756e-05\n",
      "Epoch 22/50\n",
      "16s - loss: 9.5158e-06\n",
      "Epoch 23/50\n",
      "15s - loss: 7.7569e-07\n",
      "Epoch 24/50\n",
      "18s - loss: 7.5562e-07\n",
      "Epoch 25/50\n",
      "14s - loss: 7.5361e-07\n",
      "Epoch 26/50\n",
      "15s - loss: 7.4994e-07\n",
      "Epoch 27/50\n",
      "16s - loss: 7.4947e-07\n",
      "Epoch 28/50\n",
      "16s - loss: 7.4883e-07\n",
      "Epoch 29/50\n",
      "16s - loss: 7.4570e-07\n",
      "Epoch 30/50\n",
      "15s - loss: 7.4747e-07\n",
      "Epoch 31/50\n",
      "15s - loss: 7.5527e-07\n",
      "Epoch 32/50\n",
      "16s - loss: 7.4101e-07\n",
      "Epoch 33/50\n",
      "19s - loss: 7.5078e-07\n",
      "Epoch 34/50\n",
      "17s - loss: 7.4721e-07\n",
      "Epoch 35/50\n",
      "18s - loss: 7.4684e-07\n",
      "Epoch 36/50\n",
      "18s - loss: 7.4784e-07\n",
      "Epoch 37/50\n",
      "15s - loss: 7.4331e-07\n",
      "Epoch 38/50\n",
      "17s - loss: 7.4649e-07\n",
      "Epoch 39/50\n",
      "19s - loss: 7.4360e-07\n",
      "Epoch 40/50\n",
      "16s - loss: 7.4142e-07\n",
      "Epoch 41/50\n",
      "18s - loss: 7.3787e-07\n",
      "Epoch 42/50\n",
      "18s - loss: 7.3452e-07\n",
      "Epoch 43/50\n",
      "18s - loss: 7.4759e-07\n",
      "Epoch 44/50\n",
      "17s - loss: 7.3401e-07\n",
      "Epoch 45/50\n",
      "18s - loss: 7.4067e-07\n",
      "Epoch 46/50\n",
      "16s - loss: 7.3667e-07\n",
      "Epoch 47/50\n",
      "17s - loss: 7.4601e-07\n",
      "Epoch 48/50\n",
      "22s - loss: 7.4466e-07\n",
      "Epoch 49/50\n",
      "19s - loss: 7.3692e-07\n",
      "Epoch 50/50\n",
      "18s - loss: 7.3999e-07\n"
     ]
    },
    {
     "data": {
      "text/plain": [
       "<keras.callbacks.History at 0x7f97c98e9e10>"
      ]
     },
     "execution_count": 131,
     "metadata": {},
     "output_type": "execute_result"
    }
   ],
   "source": [
    "model.fit(X_,Y_, epochs, batch_size, verbose=2)"
   ]
  },
  {
   "cell_type": "code",
   "execution_count": 132,
   "metadata": {
    "collapsed": true
   },
   "outputs": [],
   "source": [
    "model.save(\"12Dec.h5\")"
   ]
  },
  {
   "cell_type": "code",
   "execution_count": 138,
   "metadata": {
    "collapsed": true
   },
   "outputs": [],
   "source": [
    "def plot_results_multiple(predicted_data, true_data, prediction_len):\n",
    "    fig = plt.figure(facecolor='white')\n",
    "    ax = fig.add_subplot(111)\n",
    "    ax.plot(true_data, label='True Data')\n",
    "    #Pad the list of predictions to shift it in the graph to it's correct start\n",
    "    for i, data in enumerate(predicted_data):\n",
    "        padding = [None for p in range(i * prediction_len)]\n",
    "        plt.plot(data, label='Prediction')\n",
    "        plt.legend()\n",
    "    plt.show()"
   ]
  },
  {
   "cell_type": "code",
   "execution_count": 134,
   "metadata": {
    "collapsed": true
   },
   "outputs": [],
   "source": [
    "Predict = model.predict(X_)\n",
    "#testPredict = model.predict(testX)"
   ]
  },
  {
   "cell_type": "code",
   "execution_count": 142,
   "metadata": {
    "collapsed": false
   },
   "outputs": [
    {
     "data": {
      "image/png": "[encoded data removed]",
      "text/plain": [
       "<matplotlib.figure.Figure at 0x7f97a74e5780>"
      ]
     },
     "metadata": {},
     "output_type": "display_data"
    }
   ],
   "source": [
    "'''\n",
    "# shift train predictions for plotting\n",
    "trainPredictPlot = numpy.empty_like(dataset)\n",
    "trainPredictPlot[:, :] = numpy.nan\n",
    "trainPredictPlot[look_back:len(trainPredict)+look_back, :] = trainPredict\n",
    "# shift test predictions for plotting\n",
    "testPredictPlot = numpy.empty_like(dataset)\n",
    "testPredictPlot[:, :] = numpy.nan\n",
    "testPredictPlot[len(trainPredict)+(look_back*2)+1:len(dataset)-1, :] = testPredict\n",
    "# plot baseline and predictions\n",
    "#plt.plot(scaler.inverse_transform(dataset))\n",
    "plt.plot(dataset[:,0])\n",
    "#plt.plot(trainPredictPlot)\n",
    "plt.plot(testPredictPlot)\n",
    "plt.show()\n",
    "'''\n",
    "\n",
    "# shift train predictions for plotting\n",
    "PredictPlot = numpy.empty_like(dataset)\n",
    "PredictPlot[:, :] = numpy.nan\n",
    "PredictPlot[look_back:len(Predict)+look_back,3:6] = Predict\n",
    "\n",
    "plt.plot(dataset[:,0])\n",
    "#plt.plot(trainPredictPlot)\n",
    "plt.plot(PredictPlot)\n",
    "plt.show()\n"
   ]
  },
  {
   "cell_type": "code",
   "execution_count": null,
   "metadata": {
    "collapsed": false
   },
   "outputs": [],
   "source": [
    "plot_results_multiple(Predict,Y_,10000)"
   ]
  },
  {
   "cell_type": "code",
   "execution_count": null,
   "metadata": {
    "collapsed": true
   },
   "outputs": [],
   "source": []
  }
 ],
 "metadata": {
  "kernelspec": {
   "display_name": "Python 3",
   "language": "python",
   "name": "python3"
  },
  "language_info": {
   "codemirror_mode": {
    "name": "ipython",
    "version": 3
   },
   "file_extension": ".py",
   "mimetype": "text/x-python",
   "name": "python",
   "nbconvert_exporter": "python",
   "pygments_lexer": "ipython3",
   "version": "3.5.2"
  },
  "widgets": {
   "state": {},
   "version": "1.1.2"
  }
 },
 "nbformat": 4,
 "nbformat_minor": 2
}
